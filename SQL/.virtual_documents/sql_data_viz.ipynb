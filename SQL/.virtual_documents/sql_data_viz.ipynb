# Import Dependencies
from pathlib import Path
import pandas as pd
import matplotlib.pyplot as plt
import numpy as np
import hvplot.pandas


obs_file = Path("./SQL_Output/results_observation_days.csv")


obs_data = pd.read_csv(obs_file)


obs_data.head()


#%%capture --no-display

# Configure the map plot
obs_map = obs_data.hvplot.points(
    "lng",
    "lat",
    geo = True,
    tiles = "EsriTerrain",
    size = "Total Days of Observations",
    frame_width = 800,
    frame_height = 600,
    alpha = 0.9,
    scale = 3.0,
    color = "locname"
)

# Display the map
obs_map


species_file = Path("./SQL_Output/results_species_diversity.csv")


species_data = pd.read_csv(species_file)


species_data.head()


# Configure the map plot
species_map = species_data.hvplot.points(
    "lng",
    "lat",
    geo = True,
    tiles = "EsriTerrain",
    coastline = True,
    frame_width = 800,
    frame_height = 600,
    alpha = 0.9,
    scale = 9.0,
    color = "Total Number of Species Observed",
    hover_cols = "locname"
)

# Display the map
species_map


species_data


location_names = species_data['locname'].tolist()
print(location_names)


all_birds = Path("../SQL_Output/eBird_project3.csv")


all_birds = pd.read_csv(all_birds)


all_birds.head()


#i = species_data['locname']
    #print

#convert locame from species_data into an array 
loop through the array
loop through each row of raw data 
when locname matches the i in array, 
append species list 

species_list = []
for i in location_names:
    if location_names[i] == all_birds['locName']:
        species_list.append(all_birds["comName"][i])


location_names


species_list = []
species = all_birds.loc[all_birds["Drug Regimen"] == "Capomulin", :]
capomulin_tumors.append(capomulin["Tumor Volume (mm3)"])
#print(capomulin_tumors)
