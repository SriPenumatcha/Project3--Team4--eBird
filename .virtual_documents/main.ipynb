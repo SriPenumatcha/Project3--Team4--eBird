# Import Dependencies
import requests
import json

# Import the API key
from config import api_key

#Import pprint
from pprint import pprint

import matplotlib.pyplot as plt

import pandas as pd
import numpy as np
import hvplot.pandas


url = "https://api.ebird.org/v2/data/obs/AU/recent?back=30"
payload={}
headers = {
  'X-eBirdApiToken': api_key
}
response = requests.request("GET", url, headers=headers, data=payload).json()


pprint(response)


obs_no = (len(response))
print(f"Number of observations in dataset: {obs_no}")


#Convert the dataset into a pandas dataframe
birds_df = pd.DataFrame(response)


#Print the first 10 rows
birds_df.head()


#Print column names, data types
column_names = birds_df.columns
print(f"Columns in dataset are: {column_names}")

print(birds_df.describe())


#%%capture --no-display

# Configure the map plot
obs_map = birds_df.hvplot.points(
    "lng",
    "lat",
    geo = True,
    tiles = "OSM",
    size = "howMany",
    frame_width = 800,
    frame_height = 600,
    color = "comName",
    alpha = 0.8
)


# Display the map
obs_map


birds_df["comName"].nunique()


birds_df["locName"].nunique()


location_counts = pd.DataFrame(birds_df["locName"].value_counts()).reset_index()
location_counts


#Merge Location Counts df with birds_df to get lat and long for each location
birds_locatoin_df = pd.merge(birds_df, location_counts, how = 'inner', on = "locName")


birds_locatoin_df


top_ten_locations_df = location_counts.nlargest(10, 'count')


loc_bar = top_ten_locations_df.plot(kind = "bar", x = 'locName', y = 'count')



# from ebird.api import get_observations
# records_aus = (api_key, 'AU', back= 7)
# records_aus
# from ebird.api import get_regions, get_adjacent_regions, get_region
# states = get_regions(api_key, 'subnational1', 'AU')
# pprint(states)
# all_aus_data = get_observations(api_key, 'AU')
# pprint(all_aus_data)



